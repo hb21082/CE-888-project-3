{
  "nbformat": 4,
  "nbformat_minor": 0,
  "metadata": {
    "celltoolbar": "Raw Cell Format",
    "kernelspec": {
      "display_name": "Python 3",
      "language": "python",
      "name": "python3"
    },
    "language_info": {
      "codemirror_mode": {
        "name": "ipython",
        "version": 3
      },
      "file_extension": ".py",
      "mimetype": "text/x-python",
      "name": "python",
      "nbconvert_exporter": "python",
      "pygments_lexer": "ipython3",
      "version": "3.7.4"
    },
    "colab": {
      "name": "uk_police_project_code.ipynb",
      "provenance": [],
      "include_colab_link": true
    }
  },
  "cells": [
    {
      "cell_type": "markdown",
      "metadata": {
        "id": "view-in-github",
        "colab_type": "text"
      },
      "source": [
        "<a href=\"https://colab.research.google.com/github/hb21082/CE-888-project-3/blob/main/uk_police_project_code.ipynb\" target=\"_parent\"><img src=\"https://colab.research.google.com/assets/colab-badge.svg\" alt=\"Open In Colab\"/></a>"
      ]
    },
    {
      "cell_type": "code",
      "metadata": {
        "id": "xp8eyGzqxqXG",
        "outputId": "83bad1b2-f2ce-4fc2-cb1a-e7826d660741"
      },
      "source": [
        "import pandas as panda\n",
        "import numpy as npy\n",
        "import matplotlib.pyplot as plot \n",
        "\n",
        "#Dataset Reading CSV File Using Panda\n",
        "\n",
        "data = panda.read_csv('number--of-arrests.csv')\n",
        "\n",
        "data = data.head(100000) #if you want to execute entire dataset reomve this line, It excute only 100000 instances of data set\n",
        "data"
      ],
      "execution_count": null,
      "outputs": [
        {
          "output_type": "execute_result",
          "data": {
            "text/html": [
              "<div>\n",
              "<style scoped>\n",
              "    .dataframe tbody tr th:only-of-type {\n",
              "        vertical-align: middle;\n",
              "    }\n",
              "\n",
              "    .dataframe tbody tr th {\n",
              "        vertical-align: top;\n",
              "    }\n",
              "\n",
              "    .dataframe thead th {\n",
              "        text-align: right;\n",
              "    }\n",
              "</style>\n",
              "<table border=\"1\" class=\"dataframe\">\n",
              "  <thead>\n",
              "    <tr style=\"text-align: right;\">\n",
              "      <th></th>\n",
              "      <th>Ethnicity</th>\n",
              "      <th>Gender</th>\n",
              "      <th>Arrests</th>\n",
              "    </tr>\n",
              "  </thead>\n",
              "  <tbody>\n",
              "    <tr>\n",
              "      <td>0</td>\n",
              "      <td>0.0</td>\n",
              "      <td>1.0</td>\n",
              "      <td>10.0</td>\n",
              "    </tr>\n",
              "    <tr>\n",
              "      <td>1</td>\n",
              "      <td>0.0</td>\n",
              "      <td>1.0</td>\n",
              "      <td>25.0</td>\n",
              "    </tr>\n",
              "    <tr>\n",
              "      <td>2</td>\n",
              "      <td>0.0</td>\n",
              "      <td>1.0</td>\n",
              "      <td>9.0</td>\n",
              "    </tr>\n",
              "    <tr>\n",
              "      <td>3</td>\n",
              "      <td>0.0</td>\n",
              "      <td>1.0</td>\n",
              "      <td>0.0</td>\n",
              "    </tr>\n",
              "    <tr>\n",
              "      <td>4</td>\n",
              "      <td>0.0</td>\n",
              "      <td>1.0</td>\n",
              "      <td>4.0</td>\n",
              "    </tr>\n",
              "    <tr>\n",
              "      <td>...</td>\n",
              "      <td>...</td>\n",
              "      <td>...</td>\n",
              "      <td>...</td>\n",
              "    </tr>\n",
              "    <tr>\n",
              "      <td>99995</td>\n",
              "      <td>2.0</td>\n",
              "      <td>0.0</td>\n",
              "      <td>0.0</td>\n",
              "    </tr>\n",
              "    <tr>\n",
              "      <td>99996</td>\n",
              "      <td>2.0</td>\n",
              "      <td>0.0</td>\n",
              "      <td>0.0</td>\n",
              "    </tr>\n",
              "    <tr>\n",
              "      <td>99997</td>\n",
              "      <td>2.0</td>\n",
              "      <td>0.0</td>\n",
              "      <td>0.0</td>\n",
              "    </tr>\n",
              "    <tr>\n",
              "      <td>99998</td>\n",
              "      <td>2.0</td>\n",
              "      <td>0.0</td>\n",
              "      <td>0.0</td>\n",
              "    </tr>\n",
              "    <tr>\n",
              "      <td>99999</td>\n",
              "      <td>2.0</td>\n",
              "      <td>0.0</td>\n",
              "      <td>0.0</td>\n",
              "    </tr>\n",
              "  </tbody>\n",
              "</table>\n",
              "<p>100000 rows × 3 columns</p>\n",
              "</div>"
            ],
            "text/plain": [
              "       Ethnicity  Gender  Arrests\n",
              "0            0.0     1.0     10.0\n",
              "1            0.0     1.0     25.0\n",
              "2            0.0     1.0      9.0\n",
              "3            0.0     1.0      0.0\n",
              "4            0.0     1.0      4.0\n",
              "...          ...     ...      ...\n",
              "99995        2.0     0.0      0.0\n",
              "99996        2.0     0.0      0.0\n",
              "99997        2.0     0.0      0.0\n",
              "99998        2.0     0.0      0.0\n",
              "99999        2.0     0.0      0.0\n",
              "\n",
              "[100000 rows x 3 columns]"
            ]
          },
          "metadata": {
            "tags": []
          },
          "execution_count": 194
        }
      ]
    },
    {
      "cell_type": "code",
      "metadata": {
        "id": "VBA6QHksxqXf",
        "outputId": "1d1eccb0-a5f0-43e9-d8c5-60dae0ae5c69"
      },
      "source": [
        "# Feature Normalization\n",
        "data = (data - data.mean())/data.std()\n",
        "\n",
        "data.head()\n"
      ],
      "execution_count": null,
      "outputs": [
        {
          "output_type": "execute_result",
          "data": {
            "text/html": [
              "<div>\n",
              "<style scoped>\n",
              "    .dataframe tbody tr th:only-of-type {\n",
              "        vertical-align: middle;\n",
              "    }\n",
              "\n",
              "    .dataframe tbody tr th {\n",
              "        vertical-align: top;\n",
              "    }\n",
              "\n",
              "    .dataframe thead th {\n",
              "        text-align: right;\n",
              "    }\n",
              "</style>\n",
              "<table border=\"1\" class=\"dataframe\">\n",
              "  <thead>\n",
              "    <tr style=\"text-align: right;\">\n",
              "      <th></th>\n",
              "      <th>Ethnicity</th>\n",
              "      <th>Gender</th>\n",
              "      <th>Arrests</th>\n",
              "    </tr>\n",
              "  </thead>\n",
              "  <tbody>\n",
              "    <tr>\n",
              "      <td>0</td>\n",
              "      <td>-1.612764</td>\n",
              "      <td>0.289898</td>\n",
              "      <td>-0.069659</td>\n",
              "    </tr>\n",
              "    <tr>\n",
              "      <td>1</td>\n",
              "      <td>-1.612764</td>\n",
              "      <td>0.289898</td>\n",
              "      <td>-0.068773</td>\n",
              "    </tr>\n",
              "    <tr>\n",
              "      <td>2</td>\n",
              "      <td>-1.612764</td>\n",
              "      <td>0.289898</td>\n",
              "      <td>-0.069718</td>\n",
              "    </tr>\n",
              "    <tr>\n",
              "      <td>3</td>\n",
              "      <td>-1.612764</td>\n",
              "      <td>0.289898</td>\n",
              "      <td>-0.070250</td>\n",
              "    </tr>\n",
              "    <tr>\n",
              "      <td>4</td>\n",
              "      <td>-1.612764</td>\n",
              "      <td>0.289898</td>\n",
              "      <td>-0.070014</td>\n",
              "    </tr>\n",
              "  </tbody>\n",
              "</table>\n",
              "</div>"
            ],
            "text/plain": [
              "   Ethnicity    Gender   Arrests\n",
              "0  -1.612764  0.289898 -0.069659\n",
              "1  -1.612764  0.289898 -0.068773\n",
              "2  -1.612764  0.289898 -0.069718\n",
              "3  -1.612764  0.289898 -0.070250\n",
              "4  -1.612764  0.289898 -0.070014"
            ]
          },
          "metadata": {
            "tags": []
          },
          "execution_count": 195
        }
      ]
    },
    {
      "cell_type": "code",
      "metadata": {
        "id": "fRvA3LBXxqXj",
        "outputId": "93e184f6-e7d7-4e96-99fa-d1834e744b03"
      },
      "source": [
        "#Adding x0 feature - assigning Value 1\n",
        "data.insert(0, 'X0', 1)\n",
        "data.head()"
      ],
      "execution_count": null,
      "outputs": [
        {
          "output_type": "execute_result",
          "data": {
            "text/html": [
              "<div>\n",
              "<style scoped>\n",
              "    .dataframe tbody tr th:only-of-type {\n",
              "        vertical-align: middle;\n",
              "    }\n",
              "\n",
              "    .dataframe tbody tr th {\n",
              "        vertical-align: top;\n",
              "    }\n",
              "\n",
              "    .dataframe thead th {\n",
              "        text-align: right;\n",
              "    }\n",
              "</style>\n",
              "<table border=\"1\" class=\"dataframe\">\n",
              "  <thead>\n",
              "    <tr style=\"text-align: right;\">\n",
              "      <th></th>\n",
              "      <th>X0</th>\n",
              "      <th>Ethnicity</th>\n",
              "      <th>Gender</th>\n",
              "      <th>Arrests</th>\n",
              "    </tr>\n",
              "  </thead>\n",
              "  <tbody>\n",
              "    <tr>\n",
              "      <td>0</td>\n",
              "      <td>1</td>\n",
              "      <td>-1.612764</td>\n",
              "      <td>0.289898</td>\n",
              "      <td>-0.069659</td>\n",
              "    </tr>\n",
              "    <tr>\n",
              "      <td>1</td>\n",
              "      <td>1</td>\n",
              "      <td>-1.612764</td>\n",
              "      <td>0.289898</td>\n",
              "      <td>-0.068773</td>\n",
              "    </tr>\n",
              "    <tr>\n",
              "      <td>2</td>\n",
              "      <td>1</td>\n",
              "      <td>-1.612764</td>\n",
              "      <td>0.289898</td>\n",
              "      <td>-0.069718</td>\n",
              "    </tr>\n",
              "    <tr>\n",
              "      <td>3</td>\n",
              "      <td>1</td>\n",
              "      <td>-1.612764</td>\n",
              "      <td>0.289898</td>\n",
              "      <td>-0.070250</td>\n",
              "    </tr>\n",
              "    <tr>\n",
              "      <td>4</td>\n",
              "      <td>1</td>\n",
              "      <td>-1.612764</td>\n",
              "      <td>0.289898</td>\n",
              "      <td>-0.070014</td>\n",
              "    </tr>\n",
              "  </tbody>\n",
              "</table>\n",
              "</div>"
            ],
            "text/plain": [
              "   X0  Ethnicity    Gender   Arrests\n",
              "0   1  -1.612764  0.289898 -0.069659\n",
              "1   1  -1.612764  0.289898 -0.068773\n",
              "2   1  -1.612764  0.289898 -0.069718\n",
              "3   1  -1.612764  0.289898 -0.070250\n",
              "4   1  -1.612764  0.289898 -0.070014"
            ]
          },
          "metadata": {
            "tags": []
          },
          "execution_count": 196
        }
      ]
    },
    {
      "cell_type": "code",
      "metadata": {
        "scrolled": true,
        "id": "BdVSFkGQxqXn"
      },
      "source": [
        "#Separting Features and Output\n",
        "numberOfColumns = data.shape[1]\n",
        "\n",
        "xFeatures = data.iloc[:, 0 : numberOfColumns - 1]\n",
        "yOutput  = data.iloc[:, numberOfColumns - 1 : numberOfColumns]"
      ],
      "execution_count": null,
      "outputs": []
    },
    {
      "cell_type": "code",
      "metadata": {
        "id": "XMftoqaKxqXp"
      },
      "source": [
        "#Splitting Dataset into Test and Training Data\n",
        "from sklearn.model_selection import train_test_split\n",
        "\n",
        "TrAllFeaturesX, TstAllX, TrOutputVarY, TstVarY = train_test_split(xFeatures, yOutput, test_size = 0.3, random_state = 0)"
      ],
      "execution_count": null,
      "outputs": []
    },
    {
      "cell_type": "code",
      "metadata": {
        "id": "sW2UaGRPxqXr"
      },
      "source": [
        "#Declaring and Initializing theta(0, 1, 2)\n",
        "thetas = [0, 0, 0,]"
      ],
      "execution_count": null,
      "outputs": []
    },
    {
      "cell_type": "code",
      "metadata": {
        "id": "GIHNYtUVxqXt"
      },
      "source": [
        "#Function for finding Hypothesis h(x) = theta0 + theta1x1 + theta2x2 \n",
        "def findHypothesis(features, thetas):\n",
        "    \n",
        "    sum = npy.zeros(features.shape[0])\n",
        "    for i in range(features.shape[0]):    \n",
        "        for j in range(len(thetas)):\n",
        "            mul = thetas[j] * features.values[i, j]\n",
        "            sum[i] += mul\n",
        "    return sum"
      ],
      "execution_count": null,
      "outputs": []
    },
    {
      "cell_type": "code",
      "metadata": {
        "id": "hHSn3s6UxqXw"
      },
      "source": [
        "#Cost Function for Multiple Linear Regression\n",
        "def costFunction(features, output, thetas):\n",
        "    hypothesis = findHypothesis(features, thetas)\n",
        "    total = 0\n",
        "    for i in range(features.shape[0]):\n",
        "        hypX = npy.power(hypothesis[i] - output.values[i], 2)\n",
        "        total += hypX\n",
        "        \n",
        "    return total / (2 * features.shape[0])"
      ],
      "execution_count": null,
      "outputs": []
    },
    {
      "cell_type": "code",
      "metadata": {
        "id": "EQ7l7skPxqXy"
      },
      "source": [
        "#Function Used to Claculate J(0)'s simple part\n",
        "def gDSummation(features, output, thetas):\n",
        "    hypothesis = findHypothesis(features, thetas)\n",
        "    \n",
        "    result = npy.zeros(TrAllFeaturesX.shape[0])\n",
        "    for i in range(features.shape[0]):\n",
        "        result[i] =  hypothesis[i] - output.values[i] \n",
        "        \n",
        "    return result"
      ],
      "execution_count": null,
      "outputs": []
    },
    {
      "cell_type": "code",
      "metadata": {
        "id": "K7MKeDL4xqX0"
      },
      "source": [
        "#Gradient Descent for Multiple Linear Regression Method\n",
        "def gradientDescent(features, output, thetas, alpha):\n",
        "    temp = thetas\n",
        "    cost = npy.zeros(200000)\n",
        "    totalIterations = 0\n",
        "    i = 0 \n",
        "    while True:\n",
        "        error = gDSummation(features, output, thetas)\n",
        "\n",
        "        for j in range(len(thetas)):\n",
        "            tRight  = npy.zeros(len(error))\n",
        "            for k in range(len(error)):\n",
        "                tRight[k] = error[k] * features.values[k, j]\n",
        "                \n",
        "            temp[j] = thetas[j] - ((alpha/len(features)) * npy.sum(tRight))\n",
        "            \n",
        "            thetas[j] = temp[j]\n",
        "                           \n",
        "        cost[i] = costFunction(TrAllFeaturesX, TrOutputVarY, thetas)\n",
        "    \n",
        "        if i != 0:\n",
        "            if abs(cost[i] - cost[i - 1]) < 0.0001:\n",
        "                \n",
        "                cost = cost[1: - (1500 - i - 1)]\n",
        "                totalIterations = i                \n",
        "                break\n",
        "        i += 1\n",
        "    return thetas, cost, totalIterations"
      ],
      "execution_count": null,
      "outputs": []
    },
    {
      "cell_type": "code",
      "metadata": {
        "scrolled": true,
        "id": "cbXM-FMjxqX3"
      },
      "source": [
        "#Declaring and Initializing Alpha.\n",
        "alpha = 0.7"
      ],
      "execution_count": null,
      "outputs": []
    },
    {
      "cell_type": "code",
      "metadata": {
        "scrolled": true,
        "id": "TwEYwtTbxqX6",
        "outputId": "50a4dfe0-eaba-444b-fed8-45bfb9313300"
      },
      "source": [
        "#Calling Gradient Descent Method.\n",
        "g, cost, totalIterations = gradientDescent(TrAllFeaturesX, TrOutputVarY, thetas, alpha)\n",
        "print(\"Final Error: \", costFunction(TrAllFeaturesX, TrOutputVarY, g))\n",
        "print(f'Final Hypothesis: h(x) = {g[0]} X0 + {g[1]} X1 + {g[2]} X2')"
      ],
      "execution_count": null,
      "outputs": [
        {
          "output_type": "stream",
          "text": [
            "Final Error:  [0.47327688]\n",
            "Final Hypothesis: h(x) = -0.0009273604660386987 X0 + 0.056752165638893785 X1 + 0.0168039768718368 X2\n"
          ],
          "name": "stdout"
        }
      ]
    },
    {
      "cell_type": "code",
      "metadata": {
        "id": "pcECkmTkxqX7"
      },
      "source": [
        " \n"
      ],
      "execution_count": null,
      "outputs": []
    },
    {
      "cell_type": "code",
      "metadata": {
        "id": "CkGEfQkExqX8",
        "outputId": "59774680-2b1e-4ffa-b651-00b890fb9248"
      },
      "source": [
        "#Function to Calculate Hypothesis(Prediction)\n",
        "def getPredictionResult(tstFeatures, finalThetas):\n",
        "    prediction = 0;\n",
        "    \n",
        "    for i in range(len(finalThetas)):\n",
        "        prediction += finalThetas[i] * tstFeatures[i]\n",
        "        \n",
        "    return prediction\n",
        "\n",
        "#Function to Iterate through Test Data for Prediction\n",
        "def testData():\n",
        "    result = npy.zeros(TstAllX.shape[0]) \n",
        "    for i in range(TstAllX.shape[0]):\n",
        "        row = TstAllX.values[i]\n",
        "        result[i] = getPredictionResult(row, g)\n",
        "    return result\n",
        "\n",
        "#Call Test Data\n",
        "testData()\n"
      ],
      "execution_count": null,
      "outputs": [
        {
          "output_type": "execute_result",
          "data": {
            "text/plain": [
              "array([ 0.01384617, -0.00305882,  0.09569681, ..., -0.05109947,\n",
              "        0.04765616,  0.06456115])"
            ]
          },
          "metadata": {
            "tags": []
          },
          "execution_count": 206
        }
      ]
    },
    {
      "cell_type": "code",
      "metadata": {
        "id": "aJJSgo0dxqX9",
        "outputId": "fc23c12b-218f-4ca7-9662-575792c53524"
      },
      "source": [
        " \n",
        "y =TrOutputVarY.values\n",
        "plot.plot(y) \n",
        "plot.show() "
      ],
      "execution_count": null,
      "outputs": [
        {
          "output_type": "display_data",
          "data": {
            "image/png": "[encoded data removed]",
            "text/plain": [
              "<Figure size 432x288 with 1 Axes>"
            ]
          },
          "metadata": {
            "tags": [],
            "needs_background": "light"
          }
        }
      ]
    },
    {
      "cell_type": "code",
      "metadata": {
        "id": "zYd_DHd9xqX9",
        "outputId": "0fec50cc-45b3-4fe0-a3d3-70a06da310f2"
      },
      "source": [
        "#Plotting Test Output for all TestData Output(Rows)\n",
        "out = TstVarY.values\n",
        "plot.plot(out) \n",
        "plot.show() \n"
      ],
      "execution_count": null,
      "outputs": [
        {
          "output_type": "display_data",
          "data": {
            "image/png": "[encoded data removed]",
            "text/plain": [
              "<Figure size 432x288 with 1 Axes>"
            ]
          },
          "metadata": {
            "tags": [],
            "needs_background": "light"
          }
        }
      ]
    },
    {
      "cell_type": "code",
      "metadata": {
        "id": "QAYtrPiqxqX_"
      },
      "source": [
        ""
      ],
      "execution_count": null,
      "outputs": []
    },
    {
      "cell_type": "code",
      "metadata": {
        "id": "1O29_E79xqX_"
      },
      "source": [
        ""
      ],
      "execution_count": null,
      "outputs": []
    }
  ]
}